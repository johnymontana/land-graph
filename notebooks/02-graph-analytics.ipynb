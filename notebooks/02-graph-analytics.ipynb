{
 "cells": [
  {
   "cell_type": "markdown",
   "id": "df45f84f",
   "metadata": {},
   "source": [
    "# `02-graph-analytics`\n",
    "\n",
    "Graph analytics"
   ]
  },
  {
   "cell_type": "markdown",
   "id": "c9f20398",
   "metadata": {},
   "source": [
    "### TODO:\n",
    "\n",
    "- [ ] legislative influence (inferreed by cosponsor) (PageRank?)\n",
    "- [ ] cluster parcels by bill subjects / legislators?"
   ]
  },
  {
   "cell_type": "code",
   "execution_count": null,
   "id": "d3df86c5",
   "metadata": {},
   "outputs": [],
   "source": []
  }
 ],
 "metadata": {
  "kernelspec": {
   "display_name": "Python 3 (ipykernel)",
   "language": "python",
   "name": "python3"
  },
  "language_info": {
   "codemirror_mode": {
    "name": "ipython",
    "version": 3
   },
   "file_extension": ".py",
   "mimetype": "text/x-python",
   "name": "python",
   "nbconvert_exporter": "python",
   "pygments_lexer": "ipython3",
   "version": "3.9.13"
  }
 },
 "nbformat": 4,
 "nbformat_minor": 5
}
