{
 "cells": [
  {
   "cell_type": "markdown",
   "id": "0d6bd927",
   "metadata": {},
   "source": [
    "# `00-bill-import` - Importing Bill Data\n",
    "\n",
    "In this notebook we import data about Bills connected to public lands using the ProPublica Congress API.\n",
    "\n",
    "![../img/data_model.png](../img/data_model.png)"
   ]
  },
  {
   "cell_type": "markdown",
   "id": "246d72e5",
   "metadata": {},
   "source": [
    "## TODO:\n",
    "\n",
    "- [x] search for bills containing name of a public land\n",
    "- [x] find sponsor and cosponsors of each bill\n",
    "- [x] find subjects of each bill\n",
    "- [ ] privately funded legislator trips\n",
    "\n",
    "\n",
    "Other options include: bill actions, related bills"
   ]
  },
  {
   "cell_type": "code",
   "execution_count": null,
   "id": "39ec5819",
   "metadata": {},
   "outputs": [],
   "source": [
    "from neo4j import GraphDatabase\n",
    "import requests\n",
    "import time\n",
    "import pprint\n",
    "import json\n",
    "import os"
   ]
  },
  {
   "cell_type": "code",
   "execution_count": null,
   "id": "a047c125",
   "metadata": {},
   "outputs": [],
   "source": [
    "pp = pprint.PrettyPrinter(indent=4)"
   ]
  },
  {
   "cell_type": "code",
   "execution_count": null,
   "id": "8e32f822",
   "metadata": {},
   "outputs": [],
   "source": [
    "# DEFINE the following environment variables:\n",
    "\n",
    "NEO4J_URI           = \"neo4j://localhost:7687\"\n",
    "NEO4J_USER          = \"neo4j\"\n",
    "NEO4J_PASSWORD      = \"letmeinnow\"\n",
    "NEO4J_DATABASE      = \"neo4j\"\n",
    "PROPUBLICA_API_KEY  = os.environ.get(\"PROPUBLICA_API_KEY\")\n",
    "PROPUBLICA_ENDPOINT = 'https://api.propublica.org/congress/v1/bills/search.json?query=\"{name}\"'\n",
    "\n",
    "driver = GraphDatabase.driver(NEO4J_URI, auth=(NEO4J_USER, NEO4J_PASSWORD))"
   ]
  },
  {
   "cell_type": "code",
   "execution_count": null,
   "id": "a050ede1",
   "metadata": {},
   "outputs": [],
   "source": []
  },
  {
   "cell_type": "code",
   "execution_count": null,
   "id": "a81553a0",
   "metadata": {},
   "outputs": [],
   "source": [
    "# TODO: download PP geojsons and load into Neo4j"
   ]
  },
  {
   "cell_type": "markdown",
   "id": "859ba6cb",
   "metadata": {},
   "source": [
    "## Find Bills\n",
    "\n",
    "Now we use the ProPublica Congress API to search for any bills that are related to federally managed protected lands. \n",
    "\n",
    "TODO: \n",
    "\n",
    "- [ ] add arrows data model diagram\n",
    "- [ ] include Congress number\n",
    "- [ ] include committees\n",
    "\n"
   ]
  },
  {
   "cell_type": "code",
   "execution_count": null,
   "id": "44649e22",
   "metadata": {},
   "outputs": [],
   "source": [
    "# TODO: query Neo4j for parcel names\n",
    "\n",
    "# Let's start with only federally owned parcels for now\n",
    "PARCEL_NAME_QUERY = \"\"\"\n",
    "MATCH (p:Parcel) WHERE p.Own_Type = \"FED\"\n",
    "RETURN p.name AS name\n",
    "\"\"\"\n",
    "\n",
    "IMPORT_BILL_QUERY = \"\"\"\n",
    "WITH $bill AS bill\n",
    "MATCH (p:Parcel {name: $name})\n",
    "MERGE (b:Bill {billId: bill.bill_id})\n",
    "SET b.number          = bill.number,\n",
    "    b.title           = bill.title,\n",
    "    b.short_title     = bill.short_title,\n",
    "    b.introduced_date = Date(bill.introduced_date),\n",
    "    b.url             = bill.congressdotgov_url\n",
    "MERGE (l:Legislator {legislatorId: bill.sponsor_id})\n",
    "ON CREATE SET\n",
    "    l.name = bill.sponsor_name,\n",
    "    l.state = bill.sponsor_state,\n",
    "    l.party = bill.sponsor_party\n",
    "MERGE (c:Committee {name: bill.committees})\n",
    "MERGE (b)<-[:SPONSORED]-(l)\n",
    "MERGE (b)-[:LEGISLATES]->(p)\n",
    "MERGE (b)-[:IN_COMMITTEE]->(c)\n",
    "\"\"\"\n",
    "\n",
    "# TODO: cosponsors ==> legislative influence"
   ]
  },
  {
   "cell_type": "code",
   "execution_count": null,
   "id": "2b45de3d",
   "metadata": {},
   "outputs": [],
   "source": [
    "def get_parcel_names(tx):\n",
    "    parcels = []\n",
    "    result = tx.run(PARCEL_NAME_QUERY)\n",
    "    for record in result:\n",
    "        parcels.append(record[\"name\"])\n",
    "    return parcels\n",
    "\n",
    "\n",
    "def write_bills(tx, bill, parcel):\n",
    "    result = tx.run(IMPORT_BILL_QUERY, bill=bill, name=parcel)\n",
    "    return result"
   ]
  },
  {
   "cell_type": "code",
   "execution_count": null,
   "id": "cf5a7342",
   "metadata": {},
   "outputs": [],
   "source": [
    "\n",
    "# Fetch all parcel names from Neo4j\n",
    "with driver.session(database=NEO4J_DATABASE) as session:\n",
    "    parcels = session.execute_read(get_parcel_names)\n",
    "    print(parcels)\n"
   ]
  },
  {
   "cell_type": "code",
   "execution_count": null,
   "id": "5fd2988a",
   "metadata": {
    "scrolled": false
   },
   "outputs": [],
   "source": [
    "# TODO: Query Propublica API\n",
    "\n",
    "headers = {'X-API-Key': PROPUBLICA_API_KEY}\n",
    "\n",
    "for parcel in parcels:\n",
    "    try:\n",
    "        r = requests.get(PROPUBLICA_ENDPOINT.format(name=parcel), headers=headers)\n",
    "        response = r.json()\n",
    "        #print(response)\n",
    "        for result in response['results']:\n",
    "            for bill in result['bills']:\n",
    "                with driver.session(database=NEO4J_DATABASE) as session:\n",
    "                    session.execute_write(write_bills, bill, parcel)\n",
    "        print(parcel)\n",
    "        time.sleep(3)\n",
    "    except:\n",
    "        pass"
   ]
  },
  {
   "cell_type": "markdown",
   "id": "36007005",
   "metadata": {},
   "source": [
    "## Bill Cosponsors"
   ]
  },
  {
   "cell_type": "markdown",
   "id": "a76ebc5e",
   "metadata": {},
   "source": [
    "### TODO:\n",
    "\n"
   ]
  },
  {
   "cell_type": "code",
   "execution_count": null,
   "id": "d7cebf9d",
   "metadata": {},
   "outputs": [],
   "source": [
    "PROPUBLICA_COSPONSOR_URL = 'https://api.propublica.org/congress/v1/{congress}/bills/{billid}/cosponsors.json'"
   ]
  },
  {
   "cell_type": "code",
   "execution_count": null,
   "id": "e2261e69",
   "metadata": {},
   "outputs": [],
   "source": [
    "# Get all bills query\n",
    "\n",
    "# For each bill, query propublica API to find cosponsors\n",
    "\n",
    "# insert into neo4j"
   ]
  },
  {
   "cell_type": "markdown",
   "id": "06cb3634",
   "metadata": {},
   "source": [
    "```\n",
    "\"cosponsors\":[\n",
    " {\n",
    "   \"cosponsor_id\": \"J000032\",\n",
    "   \"name\": \"Sheila  Jackson Lee\",\n",
    "   \"cosponsor_title\": \"Rep.\",\n",
    "   \"cosponsor_state\": \"TX\",\n",
    "   \"cosponsor_party\": \"D\",\n",
    "   \"cosponsor_uri\": \"https://api.propublica.org/congress/v1/members/J000032.json\",\n",
    "   \"date\": \"2016-01-25\"\n",
    " },\n",
    "```"
   ]
  },
  {
   "cell_type": "code",
   "execution_count": null,
   "id": "b4e44104",
   "metadata": {},
   "outputs": [],
   "source": [
    "GET_BILLS_QUERY = \"\"\"\n",
    "MATCH (b:Bill)\n",
    "RETURN b.billId AS bill\n",
    "\"\"\"\n",
    "\n",
    "WRITE_COSPONSOR_QUERY = \"\"\"\n",
    "MATCH (b:Bill {billId: $billId})\n",
    "UNWIND $cosponsors AS co\n",
    "MERGE (l:Legislator {legislatorId: co.cosponsor_id})\n",
    "SET  l.name = co.name,\n",
    "    l.state = co.cosponsor_state,\n",
    "    l.party = co.cosponsor_party,\n",
    "    l.title = co.cosponsor_title\n",
    "MERGE (l)-[r:COSPONSORED]->(b)\n",
    "SET r.date = Date(co.date)\n",
    "RETURN COUNT(*) AS num_created\n",
    "\"\"\""
   ]
  },
  {
   "cell_type": "code",
   "execution_count": null,
   "id": "a633483c",
   "metadata": {},
   "outputs": [],
   "source": [
    "def get_bills(tx):\n",
    "    bills = []\n",
    "    result = tx.run(GET_BILLS_QUERY)\n",
    "    for record in result:\n",
    "        bills.append(record[\"bill\"])\n",
    "    return bills\n",
    "\n",
    "\n",
    "def write_cosponsor(tx, cosponsors, bill):\n",
    "    result = tx.run(WRITE_COSPONSOR_QUERY, cosponsors=cosponsors, billId=bill)\n",
    "    return result"
   ]
  },
  {
   "cell_type": "code",
   "execution_count": null,
   "id": "afe09eb9",
   "metadata": {},
   "outputs": [],
   "source": [
    "with driver.session(database=NEO4J_DATABASE) as session:\n",
    "    bills = session.execute_read(get_bills)\n",
    "    print(bills)"
   ]
  },
  {
   "cell_type": "code",
   "execution_count": null,
   "id": "965e80b4",
   "metadata": {},
   "outputs": [],
   "source": [
    "headers = {'X-API-Key': PROPUBLICA_API_KEY}\n",
    "\n",
    "for bill in bills:\n",
    "    try:\n",
    "        print(PROPUBLICA_COSPONSOR_URL.format(congress=bill[-3:], billid=bill))\n",
    "        print(bill[-3:])\n",
    "        print(bill[:-4])\n",
    "        r = requests.get(PROPUBLICA_COSPONSOR_URL.format(congress=bill[-3:], billid=bill[:-4]), headers=headers)\n",
    "        response = r.json()\n",
    "        print(response)\n",
    "        for result in response['results']:\n",
    "            with driver.session(database=NEO4J_DATABASE) as session:\n",
    "                res = session.execute_write(write_cosponsor, result['cosponsors'], bill)\n",
    "                print(res)\n",
    "        #print(parcel)\n",
    "        time.sleep(3)\n",
    "    except:\n",
    "        pass"
   ]
  },
  {
   "cell_type": "code",
   "execution_count": null,
   "id": "9f0d93d6",
   "metadata": {},
   "outputs": [],
   "source": []
  },
  {
   "cell_type": "markdown",
   "id": "e0328ed7",
   "metadata": {},
   "source": [
    "## Bill Subjects"
   ]
  },
  {
   "cell_type": "markdown",
   "id": "8b25d4b1",
   "metadata": {},
   "source": [
    "### TODO:\n",
    "\n"
   ]
  },
  {
   "cell_type": "code",
   "execution_count": null,
   "id": "ed259903",
   "metadata": {},
   "outputs": [],
   "source": [
    "PROPUBLICA_SUBJECTS_URL = 'https://api.propublica.org/congress/v1/{congress}/bills/{billid}/subjects.json'"
   ]
  },
  {
   "cell_type": "markdown",
   "id": "2789e8a3",
   "metadata": {},
   "source": [
    "Example response:\n",
    "\n",
    "```\n",
    "\"results\":[\n",
    "      {\n",
    "         \"congress\": \"115\",\n",
    "         \"bill_id\": \"hr2810-115\",\n",
    "         \"bill_slug\": \"hr2810\",\n",
    "         \"bill_type\": \"hr\",\n",
    "         \"number\": \"H.R.2810\",\n",
    "         \"bill_uri\": \"https://api.propublica.org/congress/v1/115/bills/hr2810.json\",\n",
    "         \"url_number\": \"hr2810\",\n",
    "         \"title\": \"To authorize appropriations for fiscal year 2018 for military activities of the Department of Defense and for military construction, to prescribe military personnel strengths for such fiscal year, and for other purposes.\",\n",
    "         \"sponsor_title\": \"Rep.\",\n",
    "         \"sponsor_id\": \"T000238\",\n",
    "         \"sponsor_name\": \"William M. Thornberry\",\n",
    "         \"sponsor_state\": \"TX\",\n",
    "         \"sponsor_party\": \"R\",\n",
    "         \"sponsor_uri\": \"https://api.propublica.org/congress/v1/members/T000238.json\",\n",
    "         \"introduced_date\": \"2017-06-07\",\n",
    "         \"number_of_cosponsors\": 1,\n",
    "         \"committees\": \"House Transportation and Infrastructure Committee\",\n",
    "         \"latest_major_action_date\": \"2017-12-12\",\n",
    "         \"latest_major_action\": \"Became Public Law No: 115-91.\",\n",
    "         \"house_passage_vote\": \"2017-10-12\",\n",
    "         \"senate_passage_vote\": \"2017-09-18\",\n",
    "                  \"subjects\":[\n",
    "         {\n",
    "           \"name\": \"Congressional oversight\",\n",
    "           \"url_name\": \"congressional-oversight\"\n",
    "         },\n",
    "                  {\n",
    "           \"name\": \"Europe\",\n",
    "           \"url_name\": \"europe\"\n",
    "         },\n",
    "```"
   ]
  },
  {
   "cell_type": "code",
   "execution_count": null,
   "id": "41698308",
   "metadata": {},
   "outputs": [],
   "source": [
    "GET_BILLS_QUERY = \"\"\"\n",
    "MATCH (b:Bill)\n",
    "RETURN b.billId AS bill\n",
    "\"\"\"\n",
    "\n",
    "WRITE_SUBJECTS_QUERY = \"\"\"\n",
    "MATCH (b:Bill {billId: $billId})\n",
    "UNWIND $subjects AS sub\n",
    "MERGE (s:Subject {slug: sub.url_name})\n",
    "ON CREATE SET s.name = sub.name\n",
    "MERGE (b)-[:HAS_SUBJECT]->(s)\n",
    "RETURN COUNT(*) AS num\n",
    "\"\"\""
   ]
  },
  {
   "cell_type": "code",
   "execution_count": null,
   "id": "971d29f8",
   "metadata": {},
   "outputs": [],
   "source": [
    "def get_bills(tx):\n",
    "    bills = []\n",
    "    result = tx.run(GET_BILLS_QUERY)\n",
    "    for record in result:\n",
    "        bills.append(record[\"bill\"])\n",
    "    return bills\n",
    "\n",
    "\n",
    "def write_subjects(tx, subjects, bill):\n",
    "    result = tx.run(WRITE_SUBJECTS_QUERY, subjects=subjects, billId=bill)\n",
    "    return result"
   ]
  },
  {
   "cell_type": "code",
   "execution_count": null,
   "id": "bfed3477",
   "metadata": {},
   "outputs": [],
   "source": [
    "with driver.session(database=NEO4J_DATABASE) as session:\n",
    "    bills = session.execute_read(get_bills)\n",
    "    print(bills)"
   ]
  },
  {
   "cell_type": "code",
   "execution_count": null,
   "id": "3a88f9f8",
   "metadata": {},
   "outputs": [],
   "source": [
    "headers = {'X-API-Key': PROPUBLICA_API_KEY}\n",
    "\n",
    "for bill in bills:\n",
    "    try:\n",
    "        print(PROPUBLICA_SUBJECTS_URL.format(congress=bill[-3:], billid=bill[:-4]))\n",
    "        print(bill[-3:])\n",
    "        print(bill[:-4])\n",
    "        r = requests.get(PROPUBLICA_SUBJECTS_URL.format(congress=bill[-3:], billid=bill[:-4]), headers=headers)\n",
    "        response = r.json()\n",
    "        print(response)\n",
    "        for result in response['results']:\n",
    "            with driver.session(database=NEO4J_DATABASE) as session:\n",
    "                res = session.execute_write(write_subjects, result['subjects'], bill)\n",
    "                print(res)\n",
    "        #print(parcel)\n",
    "        time.sleep(3)\n",
    "    except Exception as e:\n",
    "        print(e)\n",
    "        pass"
   ]
  },
  {
   "cell_type": "code",
   "execution_count": null,
   "id": "4dfea95b",
   "metadata": {},
   "outputs": [],
   "source": []
  },
  {
   "cell_type": "markdown",
   "id": "7711726f",
   "metadata": {},
   "source": [
    "## Legislator Trips\n",
    "\n",
    "Privately funded trips"
   ]
  },
  {
   "cell_type": "markdown",
   "id": "0cd2c7ce",
   "metadata": {},
   "source": [
    "### TODO\n",
    "\n",
    "- [ ] handle pagination"
   ]
  },
  {
   "cell_type": "markdown",
   "id": "246d21e1",
   "metadata": {},
   "source": [
    "Example result:\n",
    "\n",
    "```\n",
    "{\n",
    "    \"status\": \"OK\",\n",
    "    \"copyright\": \"Copyright (c) 2019 Pro Publica Inc. All Rights Reserved.\",\n",
    "    \"num_results\": 43,\n",
    "    \"offset\": 0,\n",
    "    \"member_id\": \"W000797\",\n",
    "    \"api_uri\": \"https://api.propublica.org/congress/v1/members/W000797.json\",\n",
    "    \"display_name\": \"Debbie Wasserman Schultz\",\n",
    "    \"results\": [{\n",
    "        \"filing_type\": \"Original\",\n",
    "        \"traveler\": \"Lauren Wolman\",\n",
    "        \"is_member\": 0,\n",
    "        \"congress\": 116,\n",
    "        \"departure_date\": \"2019-11-02\",\n",
    "        \"return_date\": \"2019-11-10\",\n",
    "        \"chamber\": \"House\",\n",
    "        \"destination\": \"Jerusalem, Israel\",\n",
    "        \"sponsor\": \"American Israel Education Foundation\",\n",
    "        \"document_id\": \"500022599\",\n",
    "        \"pdf_url\": \"http://clerk.house.gov/GTImages/MT/2019/500022599.pdf\"\n",
    "    }, {\n",
    "        \"filing_type\": \"Original\",\n",
    "        \"traveler\": \"Lauren Wolman\",\n",
    "        \"is_member\": 0,\n",
    "        \"congress\": 116,\n",
    "        \"departure_date\": \"2019-11-02\",\n",
    "        \"return_date\": \"2019-11-10\",\n",
    "        \"chamber\": \"House\",\n",
    "        \"destination\": \"Tel Aviv, Israel\",\n",
    "        \"sponsor\": \"American Israel Education Foundation\",\n",
    "        \"document_id\": \"500022599\",\n",
    "        \"pdf_url\": \"http://clerk.house.gov/GTImages/MT/2019/500022599.pdf\"\n",
    "    }, \n",
    "```"
   ]
  },
  {
   "cell_type": "code",
   "execution_count": null,
   "id": "c7208c79",
   "metadata": {},
   "outputs": [],
   "source": [
    "PROPUBLICA_TRIPS_URL='https://api.propublica.org/congress/v1/members/{memberid}/private-trips.json'"
   ]
  },
  {
   "cell_type": "code",
   "execution_count": null,
   "id": "348ffbd2",
   "metadata": {},
   "outputs": [],
   "source": [
    "GET_LEGISLATORS_QUERY = \"\"\"\n",
    "MATCH (l:Legislator)\n",
    "RETURN l.legislatorId AS member\n",
    "\"\"\"\n",
    "\n",
    "# $memberId, $trips\n",
    "WRITE_TRIPS_QUERY = \"\"\"\n",
    "MATCH (l:Legislator {legislatorId: $memberId})\n",
    "UNWIND $trips AS trip\n",
    "MERGE (t:Trip {documentId: trip.document_id})\n",
    "ON CREATE SET t.url = trip.pdf_url,\n",
    "        t.departureDate = Date(trip.departure_date),\n",
    "        t.returnDate = Date(trip.return_date)\n",
    "MERGE (o:Organization {name: trip.sponsor})\n",
    "MERGE (d:Destination {name: trip.destination})\n",
    "MERGE (l)-[:HAS_PRIVATE_TRIP]->(t)\n",
    "MERGE (t)-[:FUNDED_BY]->(o)\n",
    "MERGE (t)-[:DESTINATION]->(d)\n",
    "RETURN COUNT(*) AS num\n",
    "\"\"\""
   ]
  },
  {
   "cell_type": "code",
   "execution_count": null,
   "id": "f67f9958",
   "metadata": {},
   "outputs": [],
   "source": [
    "def get_legislators(tx):\n",
    "    members = []\n",
    "    result = tx.run(GET_LEGISLATORS_QUERY)\n",
    "    for record in result:\n",
    "        members.append(record[\"member\"])\n",
    "    return members\n",
    "\n",
    "\n",
    "def write_trips(tx, trips, member):\n",
    "    result = tx.run(WRITE_TRIPS_QUERY, trips=trips, memberId=member)\n",
    "    return result"
   ]
  },
  {
   "cell_type": "code",
   "execution_count": null,
   "id": "d3485501",
   "metadata": {},
   "outputs": [],
   "source": [
    "with driver.session(database=NEO4J_DATABASE) as session:\n",
    "    members = session.execute_read(get_legislators)\n",
    "    print(members)"
   ]
  },
  {
   "cell_type": "code",
   "execution_count": null,
   "id": "756bc225",
   "metadata": {},
   "outputs": [],
   "source": [
    "headers = {'X-API-Key': PROPUBLICA_API_KEY}\n",
    "\n",
    "for member in members:\n",
    "    try:\n",
    "        print(PROPUBLICA_TRIPS_URL.format(memberid=member))\n",
    "        r = requests.get(PROPUBLICA_TRIPS_URL.format(memberid=member), headers=headers)\n",
    "        response = r.json()\n",
    "        print(response)\n",
    "        trips = response['results']\n",
    "        with driver.session(database=NEO4J_DATABASE) as session:\n",
    "            res = session.execute_write(write_trips, trips, member)\n",
    "            print(res)\n",
    "        time.sleep(3)\n",
    "    except Exception as e:\n",
    "        print(e)\n",
    "        pass"
   ]
  },
  {
   "cell_type": "code",
   "execution_count": null,
   "id": "54ca1d8e",
   "metadata": {},
   "outputs": [],
   "source": []
  }
 ],
 "metadata": {
  "kernelspec": {
   "display_name": "Python 3 (ipykernel)",
   "language": "python",
   "name": "python3"
  },
  "language_info": {
   "codemirror_mode": {
    "name": "ipython",
    "version": 3
   },
   "file_extension": ".py",
   "mimetype": "text/x-python",
   "name": "python",
   "nbconvert_exporter": "python",
   "pygments_lexer": "ipython3",
   "version": "3.9.13"
  }
 },
 "nbformat": 4,
 "nbformat_minor": 5
}
