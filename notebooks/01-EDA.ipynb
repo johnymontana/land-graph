{
 "cells": [
  {
   "cell_type": "markdown",
   "id": "4de723e9",
   "metadata": {},
   "source": [
    "# `01-EDA`\n",
    "\n",
    "Exploratory data analysis"
   ]
  },
  {
   "cell_type": "markdown",
   "id": "ce179df7",
   "metadata": {},
   "source": [
    "### TODO\n",
    "\n",
    "- [ ] most common subjects, parcels, committees, legislators, etc\n",
    "- [ ] distribution of bills per parcel\n",
    "- [ ] correlation between parcel size and number of bills?\n",
    "- [ ] most common sponsor of private travel\n",
    "- [ ] any private travel near public lands?"
   ]
  },
  {
   "cell_type": "markdown",
   "id": "61e3f561",
   "metadata": {},
   "source": [
    "## Bills"
   ]
  },
  {
   "cell_type": "code",
   "execution_count": null,
   "id": "77785628",
   "metadata": {},
   "outputs": [],
   "source": []
  },
  {
   "cell_type": "markdown",
   "id": "3808dff6",
   "metadata": {},
   "source": [
    "## Subjects"
   ]
  },
  {
   "cell_type": "code",
   "execution_count": null,
   "id": "23feecd8",
   "metadata": {},
   "outputs": [],
   "source": []
  },
  {
   "cell_type": "markdown",
   "id": "ecc159b0",
   "metadata": {},
   "source": [
    "# Committees"
   ]
  },
  {
   "cell_type": "code",
   "execution_count": null,
   "id": "cc5cd522",
   "metadata": {},
   "outputs": [],
   "source": []
  },
  {
   "cell_type": "markdown",
   "id": "9daab261",
   "metadata": {},
   "source": [
    "## Private Trips"
   ]
  },
  {
   "cell_type": "markdown",
   "id": "22cbe942",
   "metadata": {},
   "source": [
    "Most common destinations:\n",
    "\n",
    "```Cypher\n",
    "MATCH (d:Destination)<-[:DESTINATION]-(t:Trip)\n",
    "WITH d, COUNT(t) AS num_trips\n",
    "RETURN d.name, num_trips ORDER BY num_trips DESC LIMIT 100\n",
    "```\n",
    "\n",
    "```\n",
    "╒═══════════════════════════╤═══════════╕\n",
    "│\"d.name\"                   │\"num_trips\"│\n",
    "╞═══════════════════════════╪═══════════╡\n",
    "│\"Baltimore, MD\"            │226        │\n",
    "├───────────────────────────┼───────────┤\n",
    "│\"Cambridge, MD\"            │211        │\n",
    "├───────────────────────────┼───────────┤\n",
    "│\"New York, NY\"             │210        │\n",
    "├───────────────────────────┼───────────┤\n",
    "│\"Tel Aviv, Israel\"         │190        │\n",
    "├───────────────────────────┼───────────┤\n",
    "│\"Hot Springs, VA\"          │174        │\n",
    "├───────────────────────────┼───────────┤\n",
    "│\"Williamsburg, VA\"         │167        │\n",
    "├───────────────────────────┼───────────┤\n",
    "│\"Jerusalem, Israel\"        │155        │\n",
    "├───────────────────────────┼───────────┤\n",
    "│\"Philadelphia, PA\"         │126        │\n",
    "├───────────────────────────┼───────────┤\n",
    "│\"Las Vegas, NV\"            │104        │\n",
    "├───────────────────────────┼───────────┤\n",
    "│\"Warrenton, VA\"            │79         │\n",
    "├───────────────────────────┼───────────┤\n",
    "│\"Tiberias, Israel\"         │68         │\n",
    "├───────────────────────────┼───────────┤\n",
    "│\"Middleburg, VA\"           │55         │\n",
    "├───────────────────────────┼───────────┤\n",
    "│\"San Francisco, CA\"        │53         │\n",
    "├───────────────────────────┼───────────┤\n",
    "│\"Berlin, Germany\"          │50         │\n",
    "├───────────────────────────┼───────────┤\n",
    "│\"Tokyo, Japan\"             │47         │\n",
    "├───────────────────────────┼───────────┤\n",
    "│\"Los Angeles, CA\"          │43         │\n",
    "├───────────────────────────┼───────────┤\n",
    "│\"Atlanta, GA\"              │41         │\n",
    "├───────────────────────────┼───────────┤\n",
    "│\"London, United Kingdom\"   │41         │\n",
    "├───────────────────────────┼───────────┤\n",
    "│\"New Orleans, LA\"          │41         │\n",
    "├───────────────────────────┼───────────┤\n",
    "│\"Boston, MA\"               │39         │\n",
    "├───────────────────────────┼───────────┤\n",
    "│\"Seattle, WA\"              │38         │\n",
    "├───────────────────────────┼───────────┤\n",
    "│\"Miami, FL\"                │37         │\n",
    "├───────────────────────────┼───────────┤\n",
    "\n",
    "```"
   ]
  },
  {
   "cell_type": "markdown",
   "id": "1b59dd4b",
   "metadata": {},
   "source": [
    "Most common trip sponsors:\n",
    "\n",
    "```Cypher\n",
    "MATCH (o:Organization)<-[:FUNDED_BY]-(t:Trip)\n",
    "WITH o, COUNT(t) AS num_trips\n",
    "RETURN o.name, num_trips ORDER BY num_trips DESC\n",
    "```\n",
    "\n",
    "```\n",
    "╒══════════════════════════════════════════════════════════════════════╤═══════════╕\n",
    "│\"o.name\"                                                              │\"num_trips\"│\n",
    "╞══════════════════════════════════════════════════════════════════════╪═══════════╡\n",
    "│\"Congressional Institute\"                                             │406        │\n",
    "├──────────────────────────────────────────────────────────────────────┼───────────┤\n",
    "│\"The Congressional Institute\"                                         │348        │\n",
    "├──────────────────────────────────────────────────────────────────────┼───────────┤\n",
    "│\"American Israel Education Foundation\"                                │123        │\n",
    "├──────────────────────────────────────────────────────────────────────┼───────────┤\n",
    "│\"United Nations Foundation\"                                           │87         │\n",
    "├──────────────────────────────────────────────────────────────────────┼───────────┤\n",
    "│\"Center Forward\"                                                      │66         │\n",
    "├──────────────────────────────────────────────────────────────────────┼───────────┤\n",
    "│\"The Heritage Foundation\"                                             │54         │\n",
    "├──────────────────────────────────────────────────────────────────────┼───────────┤\n",
    "│\"Partnership for a Secure America\"                                    │47         │\n",
    "├──────────────────────────────────────────────────────────────────────┼───────────┤\n",
    "│\"Aspen Institute Congressional Program\"                               │46         │\n",
    "├──────────────────────────────────────────────────────────────────────┼───────────┤\n",
    "│\"Aspen Institute\"                                                     │42         │\n",
    "├──────────────────────────────────────────────────────────────────────┼───────────┤\n",
    "│\"Consumer Technology Association\"                                     │39         │\n",
    "├──────────────────────────────────────────────────────────────────────┼───────────┤\n",
    "│\"Progressive Congress\"                                                │36         │\n",
    "├──────────────────────────────────────────────────────────────────────┼───────────┤\n",
    "│\"National Association of Broadcasters\"                                │35         │\n",
    "├──────────────────────────────────────────────────────────────────────┼───────────┤\n",
    "│\"Heritage Foundation\"                                                 │34         │\n",
    "├──────────────────────────────────────────────────────────────────────┼───────────┤\n",
    "│\"Information Technology and Innovation Foundation\"                    │33         │\n",
    "├──────────────────────────────────────────────────────────────────────┼───────────┤\n",
    "│\"J Street Education Fund\"                                             │32         │\n",
    "├──────────────────────────────────────────────────────────────────────┼───────────┤\n",
    "│\"Stanford University\"                                                 │30         │\n",
    "├──────────────────────────────────────────────────────────────────────┼───────────┤\n",
    "│\"American Israel Education Foundation (AIEF)\"                         │29         │\n",
    "├──────────────────────────────────────────────────────────────────────┼───────────┤\n",
    "│\"The Aspen Institute Congressional Program\"                           │29         │\n",
    "├──────────────────────────────────────────────────────────────────────┼───────────┤\n",
    "│\"US Association of Former Members of Congress\"                        │28         │\n",
    "├──────────────────────────────────────────────────────────────────────┼───────────┤\n",
    "│\"Third Way\"                                                           │28         │\n",
    "```"
   ]
  },
  {
   "cell_type": "code",
   "execution_count": null,
   "id": "b0c1e742",
   "metadata": {},
   "outputs": [],
   "source": []
  }
 ],
 "metadata": {
  "kernelspec": {
   "display_name": "Python 3 (ipykernel)",
   "language": "python",
   "name": "python3"
  },
  "language_info": {
   "codemirror_mode": {
    "name": "ipython",
    "version": 3
   },
   "file_extension": ".py",
   "mimetype": "text/x-python",
   "name": "python",
   "nbconvert_exporter": "python",
   "pygments_lexer": "ipython3",
   "version": "3.9.13"
  }
 },
 "nbformat": 4,
 "nbformat_minor": 5
}
